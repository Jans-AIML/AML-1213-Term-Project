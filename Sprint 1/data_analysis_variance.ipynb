{
 "cells": [
  {
   "cell_type": "markdown",
   "id": "0e9bfddb",
   "metadata": {},
   "source": [
    "# Importing Libraries\n"
   ]
  },
  {
   "cell_type": "code",
   "execution_count": 3,
   "id": "a3934120",
   "metadata": {},
   "outputs": [],
   "source": [
    "import numpy as np\n",
    "import pandas as pd\n",
    "import matplotlib.pyplot as plt\n",
    "import seaborn as sns"
   ]
  },
  {
   "cell_type": "markdown",
   "id": "6f3be2ec",
   "metadata": {},
   "source": [
    "# Importing Dataset\n"
   ]
  },
  {
   "cell_type": "code",
   "execution_count": 5,
   "id": "cf85befe",
   "metadata": {},
   "outputs": [],
   "source": [
    "dataframe = pd.read_csv('../merged_data.csv')"
   ]
  },
  {
   "cell_type": "code",
   "execution_count": 8,
   "id": "5f2d97a8",
   "metadata": {},
   "outputs": [
    {
     "data": {
      "text/html": [
       "<div>\n",
       "<style scoped>\n",
       "    .dataframe tbody tr th:only-of-type {\n",
       "        vertical-align: middle;\n",
       "    }\n",
       "\n",
       "    .dataframe tbody tr th {\n",
       "        vertical-align: top;\n",
       "    }\n",
       "\n",
       "    .dataframe thead th {\n",
       "        text-align: right;\n",
       "    }\n",
       "</style>\n",
       "<table border=\"1\" class=\"dataframe\">\n",
       "  <thead>\n",
       "    <tr style=\"text-align: right;\">\n",
       "      <th></th>\n",
       "      <th>SMILES</th>\n",
       "      <th>ID</th>\n",
       "      <th>MolWt</th>\n",
       "      <th>LogP</th>\n",
       "      <th>HBD</th>\n",
       "      <th>HBA</th>\n",
       "      <th>RotatableBonds</th>\n",
       "      <th>TPSA</th>\n",
       "      <th>Volume</th>\n",
       "      <th>LipinskiViolations</th>\n",
       "      <th>NumAtoms</th>\n",
       "      <th>Exp. dG</th>\n",
       "      <th>Pred. dG</th>\n",
       "    </tr>\n",
       "  </thead>\n",
       "  <tbody>\n",
       "    <tr>\n",
       "      <th>0</th>\n",
       "      <td>CN1C(=[NH+][C@@](c2cccc(c3cccc(Cl)c3)c2)(C2CCC...</td>\n",
       "      <td>CAT-13f</td>\n",
       "      <td>368.89</td>\n",
       "      <td>2.26</td>\n",
       "      <td>2</td>\n",
       "      <td>2</td>\n",
       "      <td>3</td>\n",
       "      <td>60.30</td>\n",
       "      <td>221.78</td>\n",
       "      <td>0</td>\n",
       "      <td>26</td>\n",
       "      <td>-9.09</td>\n",
       "      <td>-10.24</td>\n",
       "    </tr>\n",
       "    <tr>\n",
       "      <th>1</th>\n",
       "      <td>CN1C(=[NH+][C@@](c2cccc(c3cccc(Cl)c3)c2)(C2CC2...</td>\n",
       "      <td>CAT-13d</td>\n",
       "      <td>340.83</td>\n",
       "      <td>1.48</td>\n",
       "      <td>2</td>\n",
       "      <td>2</td>\n",
       "      <td>3</td>\n",
       "      <td>60.30</td>\n",
       "      <td>204.89</td>\n",
       "      <td>0</td>\n",
       "      <td>24</td>\n",
       "      <td>-10.47</td>\n",
       "      <td>-10.50</td>\n",
       "    </tr>\n",
       "    <tr>\n",
       "      <th>2</th>\n",
       "      <td>COc1ccc(c2cccc([C@@]3(c4ccccc4)[NH+]=C(N)N(C)C...</td>\n",
       "      <td>CAT-4c</td>\n",
       "      <td>372.45</td>\n",
       "      <td>1.47</td>\n",
       "      <td>2</td>\n",
       "      <td>3</td>\n",
       "      <td>4</td>\n",
       "      <td>69.53</td>\n",
       "      <td>224.20</td>\n",
       "      <td>0</td>\n",
       "      <td>28</td>\n",
       "      <td>-7.85</td>\n",
       "      <td>-7.52</td>\n",
       "    </tr>\n",
       "    <tr>\n",
       "      <th>3</th>\n",
       "      <td>CC[C@]1(c2cccc(c3cccc(Cl)c3)c2)[NH+]=C(N)N(C)C1=O</td>\n",
       "      <td>CAT-13b</td>\n",
       "      <td>328.82</td>\n",
       "      <td>1.48</td>\n",
       "      <td>2</td>\n",
       "      <td>2</td>\n",
       "      <td>3</td>\n",
       "      <td>60.30</td>\n",
       "      <td>197.66</td>\n",
       "      <td>0</td>\n",
       "      <td>23</td>\n",
       "      <td>-9.12</td>\n",
       "      <td>-8.92</td>\n",
       "    </tr>\n",
       "    <tr>\n",
       "      <th>4</th>\n",
       "      <td>CN1C(=[NH+][C@](c2ccccc2)(c2cccc(c3cnccn3)c2)C...</td>\n",
       "      <td>CAT-4l</td>\n",
       "      <td>344.40</td>\n",
       "      <td>0.25</td>\n",
       "      <td>2</td>\n",
       "      <td>4</td>\n",
       "      <td>3</td>\n",
       "      <td>86.08</td>\n",
       "      <td>207.32</td>\n",
       "      <td>0</td>\n",
       "      <td>26</td>\n",
       "      <td>-9.34</td>\n",
       "      <td>-7.29</td>\n",
       "    </tr>\n",
       "    <tr>\n",
       "      <th>...</th>\n",
       "      <td>...</td>\n",
       "      <td>...</td>\n",
       "      <td>...</td>\n",
       "      <td>...</td>\n",
       "      <td>...</td>\n",
       "      <td>...</td>\n",
       "      <td>...</td>\n",
       "      <td>...</td>\n",
       "      <td>...</td>\n",
       "      <td>...</td>\n",
       "      <td>...</td>\n",
       "      <td>...</td>\n",
       "      <td>...</td>\n",
       "    </tr>\n",
       "    <tr>\n",
       "      <th>206</th>\n",
       "      <td>c1c(c(ccc1F)Oc1c(=O)n(c2c(c1)cnc(n2)NCC(C)(O)C...</td>\n",
       "      <td>p38a_2y</td>\n",
       "      <td>376.36</td>\n",
       "      <td>2.58</td>\n",
       "      <td>2</td>\n",
       "      <td>7</td>\n",
       "      <td>5</td>\n",
       "      <td>89.27</td>\n",
       "      <td>226.59</td>\n",
       "      <td>0</td>\n",
       "      <td>27</td>\n",
       "      <td>-9.78</td>\n",
       "      <td>-10.60</td>\n",
       "    </tr>\n",
       "    <tr>\n",
       "      <th>207</th>\n",
       "      <td>C1COCCC1Nc1ncc2cc(c(=O)n(c2n1)C)Cc1c(cccc1)F</td>\n",
       "      <td>p38a_2i</td>\n",
       "      <td>368.41</td>\n",
       "      <td>2.65</td>\n",
       "      <td>1</td>\n",
       "      <td>6</td>\n",
       "      <td>4</td>\n",
       "      <td>69.04</td>\n",
       "      <td>221.79</td>\n",
       "      <td>0</td>\n",
       "      <td>27</td>\n",
       "      <td>-10.05</td>\n",
       "      <td>-10.22</td>\n",
       "    </tr>\n",
       "    <tr>\n",
       "      <th>208</th>\n",
       "      <td>c1c(c(ccc1F)Oc1c(=O)n(c2c(c1)cnc(n2)NC1CCOCC1)...</td>\n",
       "      <td>p38a_2o</td>\n",
       "      <td>480.49</td>\n",
       "      <td>2.50</td>\n",
       "      <td>1</td>\n",
       "      <td>9</td>\n",
       "      <td>7</td>\n",
       "      <td>112.41</td>\n",
       "      <td>289.23</td>\n",
       "      <td>0</td>\n",
       "      <td>33</td>\n",
       "      <td>-10.49</td>\n",
       "      <td>-9.46</td>\n",
       "    </tr>\n",
       "    <tr>\n",
       "      <th>209</th>\n",
       "      <td>c1c(c(ccc1F)Oc1c(=O)n(c2c(c1)cnc(n2)N[C@@H]1CC...</td>\n",
       "      <td>p38a_2ff</td>\n",
       "      <td>402.40</td>\n",
       "      <td>3.11</td>\n",
       "      <td>2</td>\n",
       "      <td>7</td>\n",
       "      <td>4</td>\n",
       "      <td>89.27</td>\n",
       "      <td>242.26</td>\n",
       "      <td>0</td>\n",
       "      <td>29</td>\n",
       "      <td>-11.44</td>\n",
       "      <td>-10.79</td>\n",
       "    </tr>\n",
       "    <tr>\n",
       "      <th>210</th>\n",
       "      <td>c1c(c(ccc1F)Oc1c(=O)n(c2c(c1)cnc(n2)NC1CCOCC1)...</td>\n",
       "      <td>p38a_2m</td>\n",
       "      <td>414.41</td>\n",
       "      <td>3.79</td>\n",
       "      <td>1</td>\n",
       "      <td>7</td>\n",
       "      <td>5</td>\n",
       "      <td>78.27</td>\n",
       "      <td>249.49</td>\n",
       "      <td>0</td>\n",
       "      <td>30</td>\n",
       "      <td>-10.96</td>\n",
       "      <td>-12.96</td>\n",
       "    </tr>\n",
       "  </tbody>\n",
       "</table>\n",
       "<p>211 rows × 13 columns</p>\n",
       "</div>"
      ],
      "text/plain": [
       "                                                SMILES        ID   MolWt  \\\n",
       "0    CN1C(=[NH+][C@@](c2cccc(c3cccc(Cl)c3)c2)(C2CCC...   CAT-13f  368.89   \n",
       "1    CN1C(=[NH+][C@@](c2cccc(c3cccc(Cl)c3)c2)(C2CC2...   CAT-13d  340.83   \n",
       "2    COc1ccc(c2cccc([C@@]3(c4ccccc4)[NH+]=C(N)N(C)C...    CAT-4c  372.45   \n",
       "3    CC[C@]1(c2cccc(c3cccc(Cl)c3)c2)[NH+]=C(N)N(C)C1=O   CAT-13b  328.82   \n",
       "4    CN1C(=[NH+][C@](c2ccccc2)(c2cccc(c3cnccn3)c2)C...    CAT-4l  344.40   \n",
       "..                                                 ...       ...     ...   \n",
       "206  c1c(c(ccc1F)Oc1c(=O)n(c2c(c1)cnc(n2)NCC(C)(O)C...   p38a_2y  376.36   \n",
       "207       C1COCCC1Nc1ncc2cc(c(=O)n(c2n1)C)Cc1c(cccc1)F   p38a_2i  368.41   \n",
       "208  c1c(c(ccc1F)Oc1c(=O)n(c2c(c1)cnc(n2)NC1CCOCC1)...   p38a_2o  480.49   \n",
       "209  c1c(c(ccc1F)Oc1c(=O)n(c2c(c1)cnc(n2)N[C@@H]1CC...  p38a_2ff  402.40   \n",
       "210  c1c(c(ccc1F)Oc1c(=O)n(c2c(c1)cnc(n2)NC1CCOCC1)...   p38a_2m  414.41   \n",
       "\n",
       "     LogP  HBD  HBA  RotatableBonds    TPSA  Volume  LipinskiViolations  \\\n",
       "0    2.26    2    2               3   60.30  221.78                   0   \n",
       "1    1.48    2    2               3   60.30  204.89                   0   \n",
       "2    1.47    2    3               4   69.53  224.20                   0   \n",
       "3    1.48    2    2               3   60.30  197.66                   0   \n",
       "4    0.25    2    4               3   86.08  207.32                   0   \n",
       "..    ...  ...  ...             ...     ...     ...                 ...   \n",
       "206  2.58    2    7               5   89.27  226.59                   0   \n",
       "207  2.65    1    6               4   69.04  221.79                   0   \n",
       "208  2.50    1    9               7  112.41  289.23                   0   \n",
       "209  3.11    2    7               4   89.27  242.26                   0   \n",
       "210  3.79    1    7               5   78.27  249.49                   0   \n",
       "\n",
       "     NumAtoms  Exp. dG  Pred. dG  \n",
       "0          26    -9.09    -10.24  \n",
       "1          24   -10.47    -10.50  \n",
       "2          28    -7.85     -7.52  \n",
       "3          23    -9.12     -8.92  \n",
       "4          26    -9.34     -7.29  \n",
       "..        ...      ...       ...  \n",
       "206        27    -9.78    -10.60  \n",
       "207        27   -10.05    -10.22  \n",
       "208        33   -10.49     -9.46  \n",
       "209        29   -11.44    -10.79  \n",
       "210        30   -10.96    -12.96  \n",
       "\n",
       "[211 rows x 13 columns]"
      ]
     },
     "execution_count": 8,
     "metadata": {},
     "output_type": "execute_result"
    }
   ],
   "source": [
    "dataframe"
   ]
  },
  {
   "cell_type": "code",
   "execution_count": 10,
   "id": "05c480c9",
   "metadata": {},
   "outputs": [
    {
     "name": "stdout",
     "output_type": "stream",
     "text": [
      "<class 'pandas.core.frame.DataFrame'>\n",
      "RangeIndex: 211 entries, 0 to 210\n",
      "Data columns (total 13 columns):\n",
      " #   Column              Non-Null Count  Dtype  \n",
      "---  ------              --------------  -----  \n",
      " 0   SMILES              211 non-null    object \n",
      " 1   ID                  211 non-null    object \n",
      " 2   MolWt               211 non-null    float64\n",
      " 3   LogP                211 non-null    float64\n",
      " 4   HBD                 211 non-null    int64  \n",
      " 5   HBA                 211 non-null    int64  \n",
      " 6   RotatableBonds      211 non-null    int64  \n",
      " 7   TPSA                211 non-null    float64\n",
      " 8   Volume              211 non-null    float64\n",
      " 9   LipinskiViolations  211 non-null    int64  \n",
      " 10  NumAtoms            211 non-null    int64  \n",
      " 11  Exp. dG             211 non-null    float64\n",
      " 12  Pred. dG            211 non-null    float64\n",
      "dtypes: float64(6), int64(5), object(2)\n",
      "memory usage: 21.6+ KB\n"
     ]
    }
   ],
   "source": [
    "dataframe.info()"
   ]
  },
  {
   "cell_type": "markdown",
   "id": "a937b506",
   "metadata": {},
   "source": [
    "The dataset has a total of 13 columns consisting of mostly int or float datatypes except for SMILES and ID\n"
   ]
  },
  {
   "cell_type": "markdown",
   "id": "52b68678",
   "metadata": {},
   "source": [
    "# Checking for Missing Values\n"
   ]
  },
  {
   "cell_type": "code",
   "execution_count": 17,
   "id": "ffb29a4a",
   "metadata": {},
   "outputs": [],
   "source": [
    "missing_values = dataframe.isnull().sum()\n",
    "zero_values = (dataframe.drop(columns=['LipinskiViolations'], errors='ignore') == 0).sum()\n",
    "null_values = null_values = dataframe.isna().sum()"
   ]
  },
  {
   "cell_type": "code",
   "execution_count": 21,
   "id": "4a0c2600",
   "metadata": {},
   "outputs": [],
   "source": [
    "missing_values_dataframe = pd.DataFrame({\n",
    "    'Missing Values': missing_values,\n",
    "    'Null Values': null_values,\n",
    "    'Zero Values (excluding LipinskiViolations)': zero_values\n",
    "})"
   ]
  },
  {
   "cell_type": "code",
   "execution_count": 22,
   "id": "7250fba1",
   "metadata": {},
   "outputs": [
    {
     "data": {
      "text/html": [
       "<div>\n",
       "<style scoped>\n",
       "    .dataframe tbody tr th:only-of-type {\n",
       "        vertical-align: middle;\n",
       "    }\n",
       "\n",
       "    .dataframe tbody tr th {\n",
       "        vertical-align: top;\n",
       "    }\n",
       "\n",
       "    .dataframe thead th {\n",
       "        text-align: right;\n",
       "    }\n",
       "</style>\n",
       "<table border=\"1\" class=\"dataframe\">\n",
       "  <thead>\n",
       "    <tr style=\"text-align: right;\">\n",
       "      <th></th>\n",
       "      <th>Missing Values</th>\n",
       "      <th>Null Values</th>\n",
       "      <th>Zero Values (excluding LipinskiViolations)</th>\n",
       "    </tr>\n",
       "  </thead>\n",
       "  <tbody>\n",
       "    <tr>\n",
       "      <th>Exp. dG</th>\n",
       "      <td>0</td>\n",
       "      <td>0</td>\n",
       "      <td>0.0</td>\n",
       "    </tr>\n",
       "    <tr>\n",
       "      <th>HBA</th>\n",
       "      <td>0</td>\n",
       "      <td>0</td>\n",
       "      <td>0.0</td>\n",
       "    </tr>\n",
       "    <tr>\n",
       "      <th>HBD</th>\n",
       "      <td>0</td>\n",
       "      <td>0</td>\n",
       "      <td>17.0</td>\n",
       "    </tr>\n",
       "    <tr>\n",
       "      <th>ID</th>\n",
       "      <td>0</td>\n",
       "      <td>0</td>\n",
       "      <td>0.0</td>\n",
       "    </tr>\n",
       "    <tr>\n",
       "      <th>LipinskiViolations</th>\n",
       "      <td>0</td>\n",
       "      <td>0</td>\n",
       "      <td>NaN</td>\n",
       "    </tr>\n",
       "    <tr>\n",
       "      <th>LogP</th>\n",
       "      <td>0</td>\n",
       "      <td>0</td>\n",
       "      <td>0.0</td>\n",
       "    </tr>\n",
       "    <tr>\n",
       "      <th>MolWt</th>\n",
       "      <td>0</td>\n",
       "      <td>0</td>\n",
       "      <td>0.0</td>\n",
       "    </tr>\n",
       "    <tr>\n",
       "      <th>NumAtoms</th>\n",
       "      <td>0</td>\n",
       "      <td>0</td>\n",
       "      <td>0.0</td>\n",
       "    </tr>\n",
       "    <tr>\n",
       "      <th>Pred. dG</th>\n",
       "      <td>0</td>\n",
       "      <td>0</td>\n",
       "      <td>0.0</td>\n",
       "    </tr>\n",
       "    <tr>\n",
       "      <th>RotatableBonds</th>\n",
       "      <td>0</td>\n",
       "      <td>0</td>\n",
       "      <td>0.0</td>\n",
       "    </tr>\n",
       "    <tr>\n",
       "      <th>SMILES</th>\n",
       "      <td>0</td>\n",
       "      <td>0</td>\n",
       "      <td>0.0</td>\n",
       "    </tr>\n",
       "    <tr>\n",
       "      <th>TPSA</th>\n",
       "      <td>0</td>\n",
       "      <td>0</td>\n",
       "      <td>0.0</td>\n",
       "    </tr>\n",
       "    <tr>\n",
       "      <th>Volume</th>\n",
       "      <td>0</td>\n",
       "      <td>0</td>\n",
       "      <td>0.0</td>\n",
       "    </tr>\n",
       "  </tbody>\n",
       "</table>\n",
       "</div>"
      ],
      "text/plain": [
       "                    Missing Values  Null Values  \\\n",
       "Exp. dG                          0            0   \n",
       "HBA                              0            0   \n",
       "HBD                              0            0   \n",
       "ID                               0            0   \n",
       "LipinskiViolations               0            0   \n",
       "LogP                             0            0   \n",
       "MolWt                            0            0   \n",
       "NumAtoms                         0            0   \n",
       "Pred. dG                         0            0   \n",
       "RotatableBonds                   0            0   \n",
       "SMILES                           0            0   \n",
       "TPSA                             0            0   \n",
       "Volume                           0            0   \n",
       "\n",
       "                    Zero Values (excluding LipinskiViolations)  \n",
       "Exp. dG                                                    0.0  \n",
       "HBA                                                        0.0  \n",
       "HBD                                                       17.0  \n",
       "ID                                                         0.0  \n",
       "LipinskiViolations                                         NaN  \n",
       "LogP                                                       0.0  \n",
       "MolWt                                                      0.0  \n",
       "NumAtoms                                                   0.0  \n",
       "Pred. dG                                                   0.0  \n",
       "RotatableBonds                                             0.0  \n",
       "SMILES                                                     0.0  \n",
       "TPSA                                                       0.0  \n",
       "Volume                                                     0.0  "
      ]
     },
     "execution_count": 22,
     "metadata": {},
     "output_type": "execute_result"
    }
   ],
   "source": [
    "missing_values_dataframe"
   ]
  },
  {
   "cell_type": "markdown",
   "id": "4b94cf7b",
   "metadata": {},
   "source": [
    "Removing any leading or trailing whitespace characters from the column names\n"
   ]
  },
  {
   "cell_type": "code",
   "execution_count": 11,
   "id": "2af00094",
   "metadata": {},
   "outputs": [],
   "source": [
    "dataframe.columns = dataframe.columns.str.strip()"
   ]
  },
  {
   "cell_type": "markdown",
   "id": "aa4b09a2",
   "metadata": {},
   "source": [
    "# Statistical Analysis\n"
   ]
  },
  {
   "cell_type": "markdown",
   "id": "8a8119f9",
   "metadata": {},
   "source": [
    "## Checking Mean, Median, Variance and Standard Deviation\n"
   ]
  },
  {
   "cell_type": "code",
   "execution_count": 74,
   "id": "e8a5e154",
   "metadata": {},
   "outputs": [],
   "source": [
    "stat_summary = dataframe[['Pred. dG', 'Exp. dG']].agg(['mean', 'median', 'var', 'std', 'min', 'max'])\n",
    "stat_summary.index = ['Mean', 'Median', 'Variance', 'Standard Deviation', 'Minimum', 'Maximum']"
   ]
  },
  {
   "cell_type": "code",
   "execution_count": 75,
   "id": "86053718",
   "metadata": {},
   "outputs": [
    {
     "data": {
      "text/html": [
       "<div>\n",
       "<style scoped>\n",
       "    .dataframe tbody tr th:only-of-type {\n",
       "        vertical-align: middle;\n",
       "    }\n",
       "\n",
       "    .dataframe tbody tr th {\n",
       "        vertical-align: top;\n",
       "    }\n",
       "\n",
       "    .dataframe thead th {\n",
       "        text-align: right;\n",
       "    }\n",
       "</style>\n",
       "<table border=\"1\" class=\"dataframe\">\n",
       "  <thead>\n",
       "    <tr style=\"text-align: right;\">\n",
       "      <th></th>\n",
       "      <th>Mean</th>\n",
       "      <th>Median</th>\n",
       "      <th>Variance</th>\n",
       "      <th>Standard Deviation</th>\n",
       "      <th>Minimum</th>\n",
       "      <th>Maximum</th>\n",
       "    </tr>\n",
       "  </thead>\n",
       "  <tbody>\n",
       "    <tr>\n",
       "      <th>Pred. dG</th>\n",
       "      <td>-9.12109</td>\n",
       "      <td>-9.11</td>\n",
       "      <td>2.600546</td>\n",
       "      <td>1.612621</td>\n",
       "      <td>-13.90</td>\n",
       "      <td>-3.88</td>\n",
       "    </tr>\n",
       "    <tr>\n",
       "      <th>Exp. dG</th>\n",
       "      <td>-9.15891</td>\n",
       "      <td>-9.11</td>\n",
       "      <td>1.776901</td>\n",
       "      <td>1.333005</td>\n",
       "      <td>-12.47</td>\n",
       "      <td>-5.78</td>\n",
       "    </tr>\n",
       "  </tbody>\n",
       "</table>\n",
       "</div>"
      ],
      "text/plain": [
       "             Mean  Median  Variance  Standard Deviation  Minimum  Maximum\n",
       "Pred. dG -9.12109   -9.11  2.600546            1.612621   -13.90    -3.88\n",
       "Exp. dG  -9.15891   -9.11  1.776901            1.333005   -12.47    -5.78"
      ]
     },
     "execution_count": 75,
     "metadata": {},
     "output_type": "execute_result"
    }
   ],
   "source": [
    "stat_summary.transpose()\n"
   ]
  },
  {
   "cell_type": "markdown",
   "id": "47a34101",
   "metadata": {},
   "source": [
    "\n",
    "### *Variance*\n",
    "It is the sum of squared deviations from the mean divided by n – 1, where n is the number of data values.\n",
    "Therefore, the first statistical quantity to obtain is the mean for all FEP and TI energies and some selected molecular targets.\n",
    "Variance can be calculated using the following formula: \n",
    "\n",
    "$$\n",
    " s^2 = SUM(x- u)^2 / n - 1\n",
    "$$\n"
   ]
  },
  {
   "cell_type": "code",
   "execution_count": null,
   "id": "5cdf2aaf",
   "metadata": {},
   "outputs": [],
   "source": [
    "fep = dataframe['Pred. dG']\n",
    "exp = dataframe['Exp. dG']\n",
    "fep_mean = fep.mean()\n",
    "exp_mean = exp.mean()"
   ]
  },
  {
   "cell_type": "code",
   "execution_count": 79,
   "id": "5daa95d1",
   "metadata": {},
   "outputs": [
    {
     "data": {
      "image/png": "[encoded data removed]",
      "text/plain": [
       "<Figure size 1000x800 with 1 Axes>"
      ]
     },
     "metadata": {},
     "output_type": "display_data"
    }
   ],
   "source": [
    "# Plot the mean\n",
    "plt.figure(figsize=(10, 8))\n",
    "plt.axhline(y=fep_mean, color='r', linestyle='-', label='Mean')\n",
    "\n",
    "# Plot the variance as error bars\n",
    "plt.errorbar(range(len(fep)), fep, yerr=fep.var(), fmt='o', label='Variance')\n",
    "\n",
    "# Add labels and title\n",
    "plt.xlabel('Index')\n",
    "plt.ylabel('Value')\n",
    "plt.title('Data Points with Mean and Variance')\n",
    "plt.legend()\n",
    "\n",
    "# Show the plot\n",
    "plt.show()"
   ]
  },
  {
   "cell_type": "code",
   "execution_count": 80,
   "id": "c73bf526",
   "metadata": {},
   "outputs": [
    {
     "data": {
      "image/png": "[encoded data removed]",
      "text/plain": [
       "<Figure size 1000x800 with 1 Axes>"
      ]
     },
     "metadata": {},
     "output_type": "display_data"
    }
   ],
   "source": [
    "# Plot the mean\n",
    "plt.figure(figsize=(10, 8))\n",
    "plt.axhline(y=exp_mean, color='r', linestyle='-', label='Mean')\n",
    "\n",
    "# Plot the variance as error bars\n",
    "plt.errorbar(range(len(exp)), exp, yerr=exp.var(), fmt='o', label='Variance')\n",
    "\n",
    "# Add labels and title\n",
    "plt.xlabel('Index')\n",
    "plt.ylabel('Value')\n",
    "plt.title('Data Points with Mean and Variance')\n",
    "plt.legend()\n",
    "\n",
    "# Show the plot\n",
    "plt.show()"
   ]
  },
  {
   "cell_type": "markdown",
   "id": "da95da8a",
   "metadata": {},
   "source": [
    "## Checking Covariance\n"
   ]
  },
  {
   "cell_type": "markdown",
   "id": "eec398bf",
   "metadata": {},
   "source": [
    "### *Covariance*\n",
    "The covariance measures the relationship between two variables x and z. Denote the mean for each variable by X and Z.\n",
    "As with the correlation coefficient, positive values indicate a positive relationship and negative values indicate a negative relationship.\n",
    "Covariance can be calculated using the following formula: \n",
    "\n",
    "$$\n",
    "Sx,z = SUM (x - X)*(z - Z) / n - 1\n",
    "$$\n",
    "Correlation, however, is constrained to be between –1 and 1, whereas covariance is on the same scale as the variables X and Z.\n"
   ]
  },
  {
   "cell_type": "code",
   "execution_count": null,
   "id": "0aea073b",
   "metadata": {},
   "outputs": [
    {
     "name": "stdout",
     "output_type": "stream",
     "text": [
      "Covariance for FEP in all data:  1.76\n"
     ]
    }
   ],
   "source": [
    "sum_of_diff = 0\n",
    "count = 0\n",
    "\n",
    "# Ensure both lists have the same length\n",
    "if len(fep) != len(exp):\n",
    "    raise ValueError(\"The lists fep and exp must have the same length\")\n",
    "\n",
    "# Calculate the sum of the product of differences from the mean\n",
    "for num, num2 in zip(fep, exp):\n",
    "    diff_fep = (num - fep_mean)\n",
    "    diff_exp = (num2 - exp_mean)\n",
    "    sum_of_diff += diff_fep * diff_exp\n",
    "    count += 1\n",
    "\n",
    "# Calculate the covariance\n",
    "covariance = sum_of_diff / (count - 1)\n",
    "    \n",
    "#print(sum_of_diff)\n",
    "print('Covariance for FEP in all data: ', format(covariance, ',.2f'))"
   ]
  },
  {
   "cell_type": "markdown",
   "id": "bc53a8f8",
   "metadata": {},
   "source": [
    "# Regression Between FEP and Exp\n"
   ]
  },
  {
   "cell_type": "markdown",
   "id": "b4451080",
   "metadata": {},
   "source": [
    "## Plotting the Regression plot\n"
   ]
  },
  {
   "cell_type": "code",
   "execution_count": 39,
   "id": "f7dc1e57",
   "metadata": {},
   "outputs": [
    {
     "data": {
      "image/png": "[encoded data removed]",
      "text/plain": [
       "<Figure size 1000x800 with 1 Axes>"
      ]
     },
     "metadata": {},
     "output_type": "display_data"
    }
   ],
   "source": [
    "plt.figure(figsize=(10, 8))\n",
    "sns.regplot(x='Exp. dG', y='Pred. dG', data=dataframe)\n",
    "plt.title(\"Linear Regression: Pred. dG vs Exp. dG\")\n",
    "plt.xlabel(\"Experimental dG\")\n",
    "plt.ylabel(\"Predicted dG\")\n",
    "plt.grid(True)\n",
    "plt.show()"
   ]
  },
  {
   "cell_type": "markdown",
   "id": "891252f9",
   "metadata": {},
   "source": [
    "## Evaluating The Regression between FEP and EXP\n"
   ]
  },
  {
   "cell_type": "code",
   "execution_count": 40,
   "id": "fba11ccd",
   "metadata": {},
   "outputs": [],
   "source": [
    "from sklearn.metrics import mean_squared_error, r2_score\n",
    "from scipy.stats import pearsonr"
   ]
  },
  {
   "cell_type": "code",
   "execution_count": 43,
   "id": "7ce506b7",
   "metadata": {},
   "outputs": [],
   "source": [
    "y_true = dataframe['Exp. dG']\n",
    "y_pred = dataframe['Pred. dG']\n",
    "\n",
    "rmse = np.sqrt(mean_squared_error(y_true, y_pred))\n",
    "r_sqaure = r2_score(y_true, y_pred)\n",
    "pearson_corr, p_value = pearsonr(y_true, y_pred)"
   ]
  },
  {
   "cell_type": "code",
   "execution_count": 69,
   "id": "564d3648",
   "metadata": {},
   "outputs": [],
   "source": [
    "regression_metrics  = pd.DataFrame({\n",
    "    'Metric Type': [\n",
    "        'Root Mean Squared Error (RMSE)',\n",
    "        'R² Score',\n",
    "        'Pearson Correlation Coefficient',\n",
    "        'P-value of Pearson Coefficient'\n",
    "    ],\n",
    "    'Value': [\n",
    "        rmse,\n",
    "        r_sqaure,\n",
    "        pearson_corr,\n",
    "        p_value\n",
    "    ]\n",
    "})\n"
   ]
  },
  {
   "cell_type": "code",
   "execution_count": 70,
   "id": "ff3f407b",
   "metadata": {},
   "outputs": [
    {
     "data": {
      "text/html": [
       "<div>\n",
       "<style scoped>\n",
       "    .dataframe tbody tr th:only-of-type {\n",
       "        vertical-align: middle;\n",
       "    }\n",
       "\n",
       "    .dataframe tbody tr th {\n",
       "        vertical-align: top;\n",
       "    }\n",
       "\n",
       "    .dataframe thead th {\n",
       "        text-align: right;\n",
       "    }\n",
       "</style>\n",
       "<table border=\"1\" class=\"dataframe\">\n",
       "  <thead>\n",
       "    <tr style=\"text-align: right;\">\n",
       "      <th></th>\n",
       "      <th>Metric Type</th>\n",
       "      <th>Value</th>\n",
       "    </tr>\n",
       "  </thead>\n",
       "  <tbody>\n",
       "    <tr>\n",
       "      <th>0</th>\n",
       "      <td>Root Mean Squared Error (RMSE)</td>\n",
       "      <td>9.244386e-01</td>\n",
       "    </tr>\n",
       "    <tr>\n",
       "      <th>1</th>\n",
       "      <td>R² Score</td>\n",
       "      <td>5.167676e-01</td>\n",
       "    </tr>\n",
       "    <tr>\n",
       "      <th>2</th>\n",
       "      <td>Pearson Correlation Coefficient</td>\n",
       "      <td>8.187982e-01</td>\n",
       "    </tr>\n",
       "    <tr>\n",
       "      <th>3</th>\n",
       "      <td>P-value of Pearson Coefficient</td>\n",
       "      <td>2.835420e-52</td>\n",
       "    </tr>\n",
       "  </tbody>\n",
       "</table>\n",
       "</div>"
      ],
      "text/plain": [
       "                       Metric Type         Value\n",
       "0   Root Mean Squared Error (RMSE)  9.244386e-01\n",
       "1                         R² Score  5.167676e-01\n",
       "2  Pearson Correlation Coefficient  8.187982e-01\n",
       "3   P-value of Pearson Coefficient  2.835420e-52"
      ]
     },
     "execution_count": 70,
     "metadata": {},
     "output_type": "execute_result"
    }
   ],
   "source": [
    "regression_metrics"
   ]
  },
  {
   "cell_type": "markdown",
   "id": "213c1395",
   "metadata": {},
   "source": [
    "#### Root Mean Squared Error (RMSE)\n",
    "RMSE is the square root of the average of the squared differences between predicted and actual values. Its used to penalize large errors more heavily than the smaller ones. Lower RMSE score means its more closer the actual value, which results in accurate prediction. In this case, RMSE ≈ 0.92, so on average, predictions deviate from actual values by about 0.92 units of ΔG.\n",
    "\n",
    "#### R² Score (Coefficient of Determination)\n",
    "R² represents the proportion of the variance in the dependent variable (Exp. dG) that is predictable from the independent variable (Pred. dG). In this case, R² was approximately 0.52, meaning the model explains about 52% of the variability in the experimental data. The close the value to 1 is the better predictions are due to\n",
    "#### Pearson Correlation Coefficient (r)\n",
    "Pearson’s r measures the linear correlation between two variables, a positive correlation indicates that the predicted value proportionately increments with the experimental value. For, r ≈ 0.82 shows strong positive correlation\n",
    "#### P-value (for Pearson)\n",
    "The P-value tests the null hypothesis, that is, there is no correlation between the two variables. Its measured to verify whether the observed correlation is statistically significant or just occured by pure chance. Usually, P < 0.05 is used in most cases to test the null hypothesis. Here,  P ≈ 2.8e-52, which is extremely small; so the correlation is very significant."
   ]
  }
 ],
 "metadata": {
  "kernelspec": {
   "display_name": ".aiml-1213",
   "language": "python",
   "name": "python3"
  },
  "language_info": {
   "codemirror_mode": {
    "name": "ipython",
    "version": 3
   },
   "file_extension": ".py",
   "mimetype": "text/x-python",
   "name": "python",
   "nbconvert_exporter": "python",
   "pygments_lexer": "ipython3",
   "version": "3.13.2"
  }
 },
 "nbformat": 4,
 "nbformat_minor": 5
}
